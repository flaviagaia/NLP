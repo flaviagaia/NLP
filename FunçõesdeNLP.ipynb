{
  "nbformat": 4,
  "nbformat_minor": 0,
  "metadata": {
    "colab": {
      "name": "FunçõesdeNLP.ipynb",
      "provenance": [],
      "authorship_tag": "ABX9TyPSMGxOebm6QgPDqgdtGMlg",
      "include_colab_link": true
    },
    "kernelspec": {
      "name": "python3",
      "display_name": "Python 3"
    },
    "language_info": {
      "name": "python"
    }
  },
  "cells": [
    {
      "cell_type": "markdown",
      "metadata": {
        "id": "view-in-github",
        "colab_type": "text"
      },
      "source": [
        "<a href=\"https://colab.research.google.com/github/flaviagaia/NLP/blob/main/Fun%C3%A7%C3%B5esdeNLP.ipynb\" target=\"_parent\"><img src=\"https://colab.research.google.com/assets/colab-badge.svg\" alt=\"Open In Colab\"/></a>"
      ]
    },
    {
      "cell_type": "code",
      "execution_count": null,
      "metadata": {
        "id": "iM1A0vXxY4jY"
      },
      "outputs": [],
      "source": [
        "# Dados:\n",
        "\n",
        "gc = gspread.authorize(GoogleCredentials.get_application_default())\n",
        "\n",
        "worksheet = gc.open('Planilha_Unidades').sheet1\n",
        "\n",
        "rows = worksheet.get_all_values()\n",
        "print(rows)\n",
        "\n",
        "import pandas as pd\n",
        "df = pd.DataFrame.from_records(rows, columns=['n5_no_unidade_organizacional', 'classificacao_area'])\n",
        "df.head()"
      ]
    },
    {
      "cell_type": "code",
      "source": [
        "# Letras maiúsculas:\n",
        "def maiusculas(unidade):\n",
        "    unidade = unidade.replace('A', 'a').replace('B', 'b').replace('C', 'c').replace('D', 'd').replace('E', 'e').replace('F', 'f').replace('G', 'g').replace('H', 'h').replace('I', 'i').replace('J', 'j').replace('K', 'k').replace('L', 'l').replace('M', 'm').replace('N', 'n').replace('O', 'o').replace('P', 'p').replace('Q', 'q').replace('R', 'r').replace('S', 's').replace('T', 't').replace('U', 'u').replace('V', 'v').replace('W', 'w').replace('X', 'x').replace('Y', 'y').replace('Z', 'z')\n",
        "    return unidade\n",
        "\n",
        "df['n5_no_unidade_organizacional'] = df['n5_no_unidade_organizacional'].apply(maiusculas)\n",
        "df"
      ],
      "metadata": {
        "id": "Hbbt1SrfZC-6"
      },
      "execution_count": null,
      "outputs": []
    },
    {
      "cell_type": "code",
      "source": [
        "# Ascentos:\n",
        "\n",
        "def acentos(unidade):\n",
        "    unidade = unidade.replace('.', '').replace('ç', 'c').replace('ô', 'o').replace('é', 'e').replace('ã', 'a').replace('õ', 'o').replace('ó', 'o').replace('ê', 'e').replace('à', 'a').replace('í', 'i').replace('-', ' ').replace('á', 'a').replace('ù', 'u').replace('ú', 'u')\n",
        "    return unidade\n",
        "\n",
        "df['n5_no_unidade_organizacional'] = df['n5_no_unidade_organizacional'].apply(acentos)\n",
        "df"
      ],
      "metadata": {
        "id": "ueetn-neZGYO"
      },
      "execution_count": null,
      "outputs": []
    },
    {
      "cell_type": "code",
      "source": [
        "#convert to lowercase, strip and remove punctuations\n",
        "def preprocess(text):\n",
        "    text = text.lower() \n",
        "    text = text.strip()  \n",
        "    text = re.compile('<.*?>').sub('', text) \n",
        "    text = re.compile('[%s]' % re.escape(string.punctuation)).sub(' ', text)  \n",
        "    text = re.sub('\\s+', ' ', text)  \n",
        "    text = re.sub(r'\\[[0-9]*\\]',' ',text) \n",
        "    text=re.sub(r'[^\\w\\s]', '', str(text).lower().strip())\n",
        "    text = re.sub(r'\\d',' ',text) \n",
        "    text = re.sub(r'\\s+',' ',text)\n",
        "    return text\n",
        "\n",
        "\n",
        "# STOPWORD REMOVAL\n",
        "def stopword(string):\n",
        "    a= [i for i in string.split() if i not in nltk.corpus.stopwords.words('portuguese')]\n",
        "    return ' '.join(a)\n",
        "\n",
        "#LEMMATIZATION\n",
        "# Initialize the lemmatizer\n",
        "wl = WordNetLemmatizer()\n",
        " \n",
        "# This is a helper function to map NTLK position tags\n",
        "def get_wordnet_pos(tag):\n",
        "    if tag.startswith('J'):\n",
        "        return wordnet.ADJ\n",
        "    elif tag.startswith('V'):\n",
        "        return wordnet.VERB\n",
        "    elif tag.startswith('N'):\n",
        "        return wordnet.NOUN\n",
        "    elif tag.startswith('R'):\n",
        "        return wordnet.ADV\n",
        "    else:\n",
        "        return wordnet.NOUN\n",
        "\n",
        "# Tokenize the sentence\n",
        "def lemmatizer(string):\n",
        "    word_pos_tags = nltk.pos_tag(word_tokenize(string)) # Get position tags\n",
        "    a=[wl.lemmatize(tag[0], get_wordnet_pos(tag[1])) for idx, tag in enumerate(word_pos_tags)] # Map the position tag and lemmatize the word/token\n",
        "    return \" \".join(a)"
      ],
      "metadata": {
        "id": "sTROHqxtZG--"
      },
      "execution_count": null,
      "outputs": []
    },
    {
      "cell_type": "code",
      "source": [
        "def finalpreprocess(string):\n",
        "    return lemmatizer(stopword(preprocess(string)))\n",
        "df['clean_raiz'] = df['unidade'].apply(lambda x: finalpreprocess(x))\n",
        "df.head()"
      ],
      "metadata": {
        "id": "VNPv-sTjZalJ"
      },
      "execution_count": null,
      "outputs": []
    }
  ]
}